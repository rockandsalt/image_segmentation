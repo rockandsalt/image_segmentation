{
 "cells": [
  {
   "cell_type": "code",
   "execution_count": 1,
   "metadata": {},
   "outputs": [
    {
     "data": {
      "application/vnd.jupyter.widget-view+json": {
       "model_id": "f0f8807895234217898cc013d3a02f09",
       "version_major": 2,
       "version_minor": 0
      },
      "text/plain": [
       "Text(value='', description='File path:', placeholder='Type something')"
      ]
     },
     "metadata": {},
     "output_type": "display_data"
    }
   ],
   "source": [
    "import ipywidgets as widgets\n",
    "\n",
    "path = widgets.Text(\n",
    "    placeholder='Type something',\n",
    "    description='File path:',\n",
    "    disabled=False\n",
    ")\n",
    "\n",
    "display(path)\n"
   ]
  },
  {
   "cell_type": "code",
   "execution_count": 4,
   "metadata": {},
   "outputs": [],
   "source": [
    "%matplotlib notebook\n",
    "import ipyvolume as ipv\n",
    "\n",
    "from skimage import data, io, filters\n",
    "## C:\\Users\\inst\\SynologyDrive\\Master\\Exp\\Hi-am\\data\\2019-04-10 - Issa - Fe3Si -S08 (unlabelled, green)_2um scan_recon.tiff\n",
    "stack = io.imread(path.value)[:,:,0:50]"
   ]
  },
  {
   "cell_type": "code",
   "execution_count": 5,
   "metadata": {},
   "outputs": [],
   "source": [
    "import numpy.ma as ma\n",
    "\n",
    "ma_stack = ma.masked_where(stack <= 0, stack)"
   ]
  },
  {
   "cell_type": "code",
   "execution_count": null,
   "metadata": {},
   "outputs": [
    {
     "name": "stderr",
     "output_type": "stream",
     "text": [
      "C:\\Users\\inst\\.conda\\envs\\machine_learning\\lib\\site-packages\\skimage\\restoration\\non_local_means.py:132: UserWarning: denoise_nl_means will default to multichannel=False in v0.15\n",
      "  warn('denoise_nl_means will default to multichannel=False in v0.15')\n"
     ]
    }
   ],
   "source": [
    "from skimage.restoration import denoise_nl_means\n",
    "import ipyvolume as ipv\n",
    "\n",
    "cleaned = denoise_nl_means(ma_stack,patch_size=3,multichannel=False)\n",
    "ipv.quickvolshow(cleaned[:,:,20])"
   ]
  },
  {
   "cell_type": "code",
   "execution_count": null,
   "metadata": {},
   "outputs": [],
   "source": [
    "from sklearn.cluster import KMeans\n",
    "\n",
    "kmeans = KMeans(n_clusters=2,n_jobs=2)\n",
    "\n",
    "bined = kmeans.predict(cleaned)\n",
    "\n",
    "ipv.quickvolshow(bined[:,:,20])"
   ]
  }
 ],
 "metadata": {
  "kernelspec": {
   "display_name": "Python 3",
   "language": "python",
   "name": "python3"
  },
  "language_info": {
   "codemirror_mode": {
    "name": "ipython",
    "version": 3
   },
   "file_extension": ".py",
   "mimetype": "text/x-python",
   "name": "python",
   "nbconvert_exporter": "python",
   "pygments_lexer": "ipython3",
   "version": "3.6.8"
  }
 },
 "nbformat": 4,
 "nbformat_minor": 2
}
